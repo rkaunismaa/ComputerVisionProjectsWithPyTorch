{
 "cells": [
  {
   "cell_type": "markdown",
   "metadata": {},
   "source": [
    "Thursday, September 7, 2023\n",
    "\n",
    "Running through the sample code found [here](https://pypi.org/project/DeepImageSearch/)"
   ]
  },
  {
   "cell_type": "code",
   "execution_count": null,
   "metadata": {},
   "outputs": [],
   "source": [
    "from DeepImageSearch import Load_Data, Search_Setup\n"
   ]
  },
  {
   "cell_type": "code",
   "execution_count": null,
   "metadata": {},
   "outputs": [],
   "source": [
    "imageFolder = '../FaceNetPyTorch/data/lfw/images'\n",
    "imageFolder = '/tf/All/Data/Documents/Github/rkaunismaa/NLP4HTML/express/express-match/public/images'"
   ]
  },
  {
   "cell_type": "code",
   "execution_count": null,
   "metadata": {},
   "outputs": [],
   "source": [
    "\n",
    "# Load images from a folder\n",
    "image_list = Load_Data().from_folder([imageFolder])"
   ]
  },
  {
   "cell_type": "code",
   "execution_count": null,
   "metadata": {},
   "outputs": [],
   "source": [
    "# Set up the search engine, You can load 'vit_base_patch16_224_in21k', 'resnet50' etc more then 500+ models \n",
    "st = Search_Setup(image_list=image_list, model_name='vgg19', pretrained=True, image_count=10000)\n"
   ]
  },
  {
   "cell_type": "markdown",
   "metadata": {},
   "source": [
    "This next cell will prompt above and ask \"Metadata and Features are already present, Do you want Extract Again? Enter yes or no\" to rerun the index. IF you pointed to a different folder, then, yeah, redo it .. \n",
    "\n",
    "Also, it currently runs on the cpu, grabbing all 8 and utilizing almost %100 on all of them ... I bet this would be wayy faster from the gpu! ... so gonna give that a go ...\n",
    "\n",
    "Also, this saves the metadata to a 'metadata-files/vgg19/image_data_features.pkl' and 'metadata-files/vgg19/image_features_vectors.idx' file. \n",
    "\n",
    "Don't run the next cell if you simply want to use the existing feature vectors!"
   ]
  },
  {
   "cell_type": "code",
   "execution_count": null,
   "metadata": {},
   "outputs": [],
   "source": [
    "%%time\n",
    "# Index the images\n",
    "st.run_index()\n",
    "\n",
    "# Running on 8 CPU's at almost %100 ...\n",
    "# CPU times: user 2h 54min 33s, sys: 27min 48s, total: 3h 22min 21s\n",
    "# Wall time: 29min 21s"
   ]
  },
  {
   "cell_type": "code",
   "execution_count": null,
   "metadata": {},
   "outputs": [],
   "source": [
    "# Get metadata\n",
    "metadata = st.get_image_metadata_file()"
   ]
  },
  {
   "cell_type": "code",
   "execution_count": null,
   "metadata": {},
   "outputs": [],
   "source": [
    "# Add new images to the index\n",
    "# st.add_images_to_index(['../FaceNetPyTorch/data/lfw/images/Angelina_Jolie/Angelina_Jolie_0001.jpg', '../FaceNetPyTorch/data/lfw/images/Angelina_Jolie/Angelina_Jolie_0008.jpg'])\n"
   ]
  },
  {
   "cell_type": "code",
   "execution_count": null,
   "metadata": {},
   "outputs": [],
   "source": [
    "# Get similar images\n",
    "searchImage = '../FaceNetPyTorch/data/test_images/angelina_jolie/1.jpg'\n",
    "searchImage = '/tf/All/Data/Documents/Github/rkaunismaa/NLP4HTML/express/express-match/public/images/ko1yxtyDnBYUnshNvpaiAw2/df2d5f53-5683-ed11-90fd-f40343f49558.jpeg'\n",
    "# searchImage = '/tf/All/Data/Documents/Github/rkaunismaa/NLP4HTML/express/express-match/public/images/ko1yxtyDnBYUnshNvpaiAw2/7c448d84-0783-ed11-90fd-f40343f49558.jpeg'\n",
    "\n",
    "st.get_similar_images(image_path = searchImage, number_of_images=10)\n"
   ]
  },
  {
   "cell_type": "code",
   "execution_count": null,
   "metadata": {},
   "outputs": [],
   "source": [
    "# Plot similar images\n",
    "st.plot_similar_images(image_path=searchImage, number_of_images=9)\n"
   ]
  }
 ],
 "metadata": {
  "kernelspec": {
   "display_name": "Python 3",
   "language": "python",
   "name": "python3"
  },
  "language_info": {
   "codemirror_mode": {
    "name": "ipython",
    "version": 3
   },
   "file_extension": ".py",
   "mimetype": "text/x-python",
   "name": "python",
   "nbconvert_exporter": "python",
   "pygments_lexer": "ipython3",
   "version": "3.8.10"
  },
  "orig_nbformat": 4
 },
 "nbformat": 4,
 "nbformat_minor": 2
}
