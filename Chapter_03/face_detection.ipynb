{
 "cells": [
  {
   "cell_type": "code",
   "execution_count": 1,
   "metadata": {},
   "outputs": [],
   "source": [
    "# This notebook attempts to use the video camera to capture my face. \n",
    "# It cannot access the video camera, and so fails ... I am gonna ignore this for now. "
   ]
  },
  {
   "cell_type": "code",
   "execution_count": 1,
   "metadata": {},
   "outputs": [],
   "source": [
    "import cv2\n",
    "import gc"
   ]
  },
  {
   "cell_type": "code",
   "execution_count": 2,
   "metadata": {},
   "outputs": [],
   "source": [
    "def detect_face_eye(frame):\n",
    "    ## normalization and convert color to gray scale\n",
    "    frame_to_gray = cv2.equalizeHist(cv2.cvtColor(frame, cv2.COLOR_BGR2GRAY))\n",
    "    ## application should be able to different scales of image\n",
    "    detected_faces = face_cascade.detectMultiScale(frame_to_gray)\n",
    "    for (x,y,w,h) in detected_faces:\n",
    "        center_face = (x + w//2, y + h//2)\n",
    "        ## draw an ellipse\n",
    "        frame = cv2.ellipse(frame, center_face, (w//2, h//2), 0, 0, 360, (125, 125, 125), 6)\n",
    "        face_regionofinterest = frame_to_gray[y:y+h,x:x+w]\n",
    "        #detect eyes - for each detected face\n",
    "        ## similar multiscale operations\n",
    "        detected_eyes = eyes_cascade.detectMultiScale(face_regionofinterest)\n",
    "        for (x2,y2,w2,h2) in detected_eyes:\n",
    "            center_eye = (x + x2 + w2//2, y + y2 + h2//2)\n",
    "            radius = int(round((w2 + h2)*0.25))\n",
    "            ## draw a circle\n",
    "            frame = cv2.circle(frame, center_eye, radius, (255, 255, 255 ), 4)\n",
    "    cv2.imshow('--Face Detection--', frame)"
   ]
  },
  {
   "cell_type": "code",
   "execution_count": 3,
   "metadata": {},
   "outputs": [
    {
     "data": {
      "text/plain": [
       "True"
      ]
     },
     "execution_count": 3,
     "metadata": {},
     "output_type": "execute_result"
    }
   ],
   "source": [
    "## saved xml paths\n",
    "face_cascade_name = r'frontal_face_alt.xml'\n",
    "eyes_cascade_name = r'eye_cascade_model.xml'\n",
    "## initialize the cascade for detection\n",
    "face_cascade = cv2.CascadeClassifier()\n",
    "eyes_cascade = cv2.CascadeClassifier()\n",
    "## load the cascades face followed by eyes\n",
    "face_cascade.load(cv2.samples.findFile(face_cascade_name))\n",
    "eyes_cascade.load(cv2.samples.findFile(eyes_cascade_name))"
   ]
  },
  {
   "cell_type": "code",
   "execution_count": 4,
   "metadata": {},
   "outputs": [
    {
     "name": "stderr",
     "output_type": "stream",
     "text": [
      "[ WARN:0@4.083] global cap_v4l.cpp:982 open VIDEOIO(V4L2:/dev/video0): can't open camera by index\n",
      "[ERROR:0@4.084] global obsensor_uvc_stream_channel.cpp:156 getStreamChannelGroup Camera index out of range\n"
     ]
    }
   ],
   "source": [
    "camera_device = 0\n",
    "## enable video processing\n",
    "capture_cam_img = cv2.VideoCapture(camera_device)"
   ]
  },
  {
   "cell_type": "code",
   "execution_count": 6,
   "metadata": {},
   "outputs": [
    {
     "ename": "error",
     "evalue": "OpenCV(4.8.0) /io/opencv/modules/imgproc/src/color.cpp:182: error: (-215:Assertion failed) !_src.empty() in function 'cvtColor'\n",
     "output_type": "error",
     "traceback": [
      "\u001b[0;31m---------------------------------------------------------------------------\u001b[0m",
      "\u001b[0;31merror\u001b[0m                                     Traceback (most recent call last)",
      "Cell \u001b[0;32mIn[6], line 18\u001b[0m\n\u001b[1;32m     16\u001b[0m \u001b[38;5;28;01mwhile\u001b[39;00m \u001b[38;5;28;01mTrue\u001b[39;00m:\n\u001b[1;32m     17\u001b[0m     ret, frame \u001b[38;5;241m=\u001b[39m capture_cam_img\u001b[38;5;241m.\u001b[39mread()\n\u001b[0;32m---> 18\u001b[0m     \u001b[43mdetect_face_eye\u001b[49m\u001b[43m(\u001b[49m\u001b[43mframe\u001b[49m\u001b[43m)\u001b[49m\n\u001b[1;32m     19\u001b[0m     \u001b[38;5;66;03m## shut down cv video sensing when ESC is pressed\u001b[39;00m\n\u001b[1;32m     20\u001b[0m     \u001b[38;5;28;01mif\u001b[39;00m cv2\u001b[38;5;241m.\u001b[39mwaitKey(\u001b[38;5;241m10\u001b[39m) \u001b[38;5;241m==\u001b[39m \u001b[38;5;241m27\u001b[39m:\n",
      "Cell \u001b[0;32mIn[3], line 3\u001b[0m, in \u001b[0;36mdetect_face_eye\u001b[0;34m(frame)\u001b[0m\n\u001b[1;32m      1\u001b[0m \u001b[38;5;28;01mdef\u001b[39;00m \u001b[38;5;21mdetect_face_eye\u001b[39m(frame):\n\u001b[1;32m      2\u001b[0m     \u001b[38;5;66;03m## normalization and convert color to gray scale\u001b[39;00m\n\u001b[0;32m----> 3\u001b[0m     frame_to_gray \u001b[38;5;241m=\u001b[39m cv2\u001b[38;5;241m.\u001b[39mequalizeHist(\u001b[43mcv2\u001b[49m\u001b[38;5;241;43m.\u001b[39;49m\u001b[43mcvtColor\u001b[49m\u001b[43m(\u001b[49m\u001b[43mframe\u001b[49m\u001b[43m,\u001b[49m\u001b[43m \u001b[49m\u001b[43mcv2\u001b[49m\u001b[38;5;241;43m.\u001b[39;49m\u001b[43mCOLOR_BGR2GRAY\u001b[49m\u001b[43m)\u001b[49m)\n\u001b[1;32m      4\u001b[0m     \u001b[38;5;66;03m## application should be able to different scales of image\u001b[39;00m\n\u001b[1;32m      5\u001b[0m     detected_faces \u001b[38;5;241m=\u001b[39m face_cascade\u001b[38;5;241m.\u001b[39mdetectMultiScale(frame_to_gray)\n",
      "\u001b[0;31merror\u001b[0m: OpenCV(4.8.0) /io/opencv/modules/imgproc/src/color.cpp:182: error: (-215:Assertion failed) !_src.empty() in function 'cvtColor'\n"
     ]
    }
   ],
   "source": [
    "# ## saved xml paths\n",
    "# face_cascade_name = r'frontal_face_alt.xml'\n",
    "# eyes_cascade_name = r'eye_cascade_model.xml'\n",
    "# ## initialize the cascade for detection\n",
    "# face_cascade = cv2.CascadeClassifier()\n",
    "# eyes_cascade = cv2.CascadeClassifier()\n",
    "# ## load the cascades face followed by eyes\n",
    "# face_cascade.load(cv2.samples.findFile(face_cascade_name))\n",
    "# eyes_cascade.load(cv2.samples.findFile(eyes_cascade_name))\n",
    "\n",
    "# camera_device = 0\n",
    "# ## enable video processing\n",
    "# capture_cam_img = cv2.VideoCapture(camera_device)\n",
    "## enable classifier to operate on the face\n",
    "if capture_cam_img.isOpened :\n",
    "    while True:\n",
    "        ret, frame = capture_cam_img.read()\n",
    "        detect_face_eye(frame)\n",
    "        ## shut down cv video sensing when ESC is pressed\n",
    "        if cv2.waitKey(10) == 27:\n",
    "            cv2.destroyAllWindows()\n",
    "            gc.collect()\n",
    "            break"
   ]
  },
  {
   "cell_type": "code",
   "execution_count": null,
   "metadata": {},
   "outputs": [],
   "source": []
  }
 ],
 "metadata": {
  "kernelspec": {
   "display_name": "Python 3 (ipykernel)",
   "language": "python",
   "name": "python3"
  },
  "language_info": {
   "codemirror_mode": {
    "name": "ipython",
    "version": 3
   },
   "file_extension": ".py",
   "mimetype": "text/x-python",
   "name": "python",
   "nbconvert_exporter": "python",
   "pygments_lexer": "ipython3",
   "version": "3.8.10"
  }
 },
 "nbformat": 4,
 "nbformat_minor": 4
}
