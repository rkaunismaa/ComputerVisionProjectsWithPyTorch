{
 "cells": [
  {
   "cell_type": "markdown",
   "metadata": {},
   "source": [
    "Monday, October 16, 2023\n",
    "\n",
    "Scan all the image folders in mymatch and find the copies."
   ]
  },
  {
   "cell_type": "code",
   "execution_count": 1,
   "metadata": {},
   "outputs": [
    {
     "name": "stderr",
     "output_type": "stream",
     "text": [
      "2023-10-27 12:00:02.158358: I tensorflow/core/platform/cpu_feature_guard.cc:182] This TensorFlow binary is optimized to use available CPU instructions in performance-critical operations.\n",
      "To enable the following instructions: AVX2 FMA, in other operations, rebuild TensorFlow with the appropriate compiler flags.\n"
     ]
    }
   ],
   "source": [
    "from deepface import DeepFace"
   ]
  },
  {
   "cell_type": "code",
   "execution_count": 2,
   "metadata": {},
   "outputs": [],
   "source": [
    "import os\n",
    "reFresh = True"
   ]
  },
  {
   "cell_type": "code",
   "execution_count": 3,
   "metadata": {},
   "outputs": [],
   "source": [
    "matchImagesFolder = '/tf/All/Data/Documents/Github/rkaunismaa/NLP4HTML/express/express-match/public/images/'"
   ]
  },
  {
   "cell_type": "code",
   "execution_count": 4,
   "metadata": {},
   "outputs": [],
   "source": [
    "if reFresh:\n",
    "    os.remove(matchImagesFolder + 'representations_vgg_face.pkl')"
   ]
  },
  {
   "cell_type": "code",
   "execution_count": 5,
   "metadata": {},
   "outputs": [
    {
     "name": "stderr",
     "output_type": "stream",
     "text": [
      "Finding representations:   0%|          | 0/11922 [00:00<?, ?it/s]2023-10-27 12:00:25.789167: I tensorflow/compiler/xla/stream_executor/cuda/cuda_gpu_executor.cc:995] successful NUMA node read from SysFS had negative value (-1), but there must be at least one NUMA node, so returning NUMA node zero. See more at https://github.com/torvalds/linux/blob/v6.0/Documentation/ABI/testing/sysfs-bus-pci#L344-L355\n",
      "2023-10-27 12:00:25.789342: I tensorflow/compiler/xla/stream_executor/cuda/cuda_gpu_executor.cc:995] successful NUMA node read from SysFS had negative value (-1), but there must be at least one NUMA node, so returning NUMA node zero. See more at https://github.com/torvalds/linux/blob/v6.0/Documentation/ABI/testing/sysfs-bus-pci#L344-L355\n",
      "2023-10-27 12:00:25.807684: I tensorflow/compiler/xla/stream_executor/cuda/cuda_gpu_executor.cc:995] successful NUMA node read from SysFS had negative value (-1), but there must be at least one NUMA node, so returning NUMA node zero. See more at https://github.com/torvalds/linux/blob/v6.0/Documentation/ABI/testing/sysfs-bus-pci#L344-L355\n",
      "2023-10-27 12:00:25.807859: I tensorflow/compiler/xla/stream_executor/cuda/cuda_gpu_executor.cc:995] successful NUMA node read from SysFS had negative value (-1), but there must be at least one NUMA node, so returning NUMA node zero. See more at https://github.com/torvalds/linux/blob/v6.0/Documentation/ABI/testing/sysfs-bus-pci#L344-L355\n",
      "2023-10-27 12:00:25.807995: I tensorflow/compiler/xla/stream_executor/cuda/cuda_gpu_executor.cc:995] successful NUMA node read from SysFS had negative value (-1), but there must be at least one NUMA node, so returning NUMA node zero. See more at https://github.com/torvalds/linux/blob/v6.0/Documentation/ABI/testing/sysfs-bus-pci#L344-L355\n",
      "2023-10-27 12:00:25.808124: I tensorflow/compiler/xla/stream_executor/cuda/cuda_gpu_executor.cc:995] successful NUMA node read from SysFS had negative value (-1), but there must be at least one NUMA node, so returning NUMA node zero. See more at https://github.com/torvalds/linux/blob/v6.0/Documentation/ABI/testing/sysfs-bus-pci#L344-L355\n",
      "2023-10-27 12:00:25.808230: I tensorflow/core/common_runtime/gpu/gpu_device.cc:2031] Ignoring visible gpu device (device: 1, name: NVIDIA GeForce GTX 1050, pci bus id: 0000:01:00.0, compute capability: 6.1) with core count: 5. The minimum required count is 8. You can adjust this requirement with the env var TF_MIN_GPU_MULTIPROCESSOR_COUNT.\n",
      "2023-10-27 12:00:25.809441: I tensorflow/compiler/xla/stream_executor/cuda/cuda_gpu_executor.cc:995] successful NUMA node read from SysFS had negative value (-1), but there must be at least one NUMA node, so returning NUMA node zero. See more at https://github.com/torvalds/linux/blob/v6.0/Documentation/ABI/testing/sysfs-bus-pci#L344-L355\n",
      "2023-10-27 12:00:25.809600: I tensorflow/compiler/xla/stream_executor/cuda/cuda_gpu_executor.cc:995] successful NUMA node read from SysFS had negative value (-1), but there must be at least one NUMA node, so returning NUMA node zero. See more at https://github.com/torvalds/linux/blob/v6.0/Documentation/ABI/testing/sysfs-bus-pci#L344-L355\n",
      "2023-10-27 12:00:25.809733: I tensorflow/compiler/xla/stream_executor/cuda/cuda_gpu_executor.cc:995] successful NUMA node read from SysFS had negative value (-1), but there must be at least one NUMA node, so returning NUMA node zero. See more at https://github.com/torvalds/linux/blob/v6.0/Documentation/ABI/testing/sysfs-bus-pci#L344-L355\n",
      "2023-10-27 12:00:25.894714: I tensorflow/compiler/xla/stream_executor/cuda/cuda_gpu_executor.cc:995] successful NUMA node read from SysFS had negative value (-1), but there must be at least one NUMA node, so returning NUMA node zero. See more at https://github.com/torvalds/linux/blob/v6.0/Documentation/ABI/testing/sysfs-bus-pci#L344-L355\n",
      "2023-10-27 12:00:25.894886: I tensorflow/compiler/xla/stream_executor/cuda/cuda_gpu_executor.cc:995] successful NUMA node read from SysFS had negative value (-1), but there must be at least one NUMA node, so returning NUMA node zero. See more at https://github.com/torvalds/linux/blob/v6.0/Documentation/ABI/testing/sysfs-bus-pci#L344-L355\n",
      "2023-10-27 12:00:25.895017: I tensorflow/compiler/xla/stream_executor/cuda/cuda_gpu_executor.cc:995] successful NUMA node read from SysFS had negative value (-1), but there must be at least one NUMA node, so returning NUMA node zero. See more at https://github.com/torvalds/linux/blob/v6.0/Documentation/ABI/testing/sysfs-bus-pci#L344-L355\n",
      "2023-10-27 12:00:25.895154: I tensorflow/core/common_runtime/gpu/gpu_device.cc:1639] Created device /job:localhost/replica:0/task:0/device:GPU:0 with 6815 MB memory:  -> device: 0, name: NVIDIA GeForce RTX 2070 SUPER, pci bus id: 0000:02:00.0, compute capability: 7.5\n",
      "2023-10-27 12:00:27.388252: I tensorflow/compiler/xla/stream_executor/cuda/cuda_dnn.cc:432] Loaded cuDNN version 8600\n",
      "Finding representations: 100%|██████████| 11922/11922 [33:47<00:00,  5.88it/s]\n"
     ]
    },
    {
     "name": "stdout",
     "output_type": "stream",
     "text": [
      "Representations stored in /tf/All/Data/Documents/Github/rkaunismaa/NLP4HTML/express/express-match/public/images/representations_vgg_face.pkl file.Please delete this file when you add new identities in your database.\n",
      "find function lasts  2035.7065160274506  seconds\n"
     ]
    }
   ],
   "source": [
    "# Test searching through the MyMatch files ... remember, this is using the GPU!\n",
    "# WOW! This blows up if the image does not have a face!\n",
    "searchImage = '/tf/All/Data/Documents/Github/rkaunismaa/NLP4HTML/express/express-match/public/images/ko1yxtyDnBYUnshNvpaiAw2/df2d5f53-5683-ed11-90fd-f40343f49558.jpeg'\n",
    "myMatchPath = '/tf/All/Data/Documents/Github/rkaunismaa/NLP4HTML/express/express-match/public/images'\n",
    "# added enforce_detection=False to ensure it continues to run if no face is found for a given image\n",
    "\n",
    "# This uses the default VGG-Face model\n",
    "dfs = DeepFace.find(img_path = searchImage, db_path = myMatchPath, enforce_detection=False)\n",
    "\n",
    "# 33m 56.0s on the 2070 super"
   ]
  },
  {
   "cell_type": "code",
   "execution_count": 17,
   "metadata": {},
   "outputs": [
    {
     "data": {
      "text/html": [
       "<div>\n",
       "<style scoped>\n",
       "    .dataframe tbody tr th:only-of-type {\n",
       "        vertical-align: middle;\n",
       "    }\n",
       "\n",
       "    .dataframe tbody tr th {\n",
       "        vertical-align: top;\n",
       "    }\n",
       "\n",
       "    .dataframe thead th {\n",
       "        text-align: right;\n",
       "    }\n",
       "</style>\n",
       "<table border=\"1\" class=\"dataframe\">\n",
       "  <thead>\n",
       "    <tr style=\"text-align: right;\">\n",
       "      <th></th>\n",
       "      <th>identity</th>\n",
       "      <th>source_x</th>\n",
       "      <th>source_y</th>\n",
       "      <th>source_w</th>\n",
       "      <th>source_h</th>\n",
       "      <th>VGG-Face_cosine</th>\n",
       "    </tr>\n",
       "  </thead>\n",
       "  <tbody>\n",
       "    <tr>\n",
       "      <th>0</th>\n",
       "      <td>/tf/All/Data/Documents/Github/rkaunismaa/NLP4H...</td>\n",
       "      <td>0</td>\n",
       "      <td>0</td>\n",
       "      <td>957</td>\n",
       "      <td>957</td>\n",
       "      <td>2.220446e-16</td>\n",
       "    </tr>\n",
       "    <tr>\n",
       "      <th>1</th>\n",
       "      <td>/tf/All/Data/Documents/Github/rkaunismaa/NLP4H...</td>\n",
       "      <td>0</td>\n",
       "      <td>0</td>\n",
       "      <td>957</td>\n",
       "      <td>957</td>\n",
       "      <td>2.658416e-01</td>\n",
       "    </tr>\n",
       "    <tr>\n",
       "      <th>2</th>\n",
       "      <td>/tf/All/Data/Documents/Github/rkaunismaa/NLP4H...</td>\n",
       "      <td>0</td>\n",
       "      <td>0</td>\n",
       "      <td>957</td>\n",
       "      <td>957</td>\n",
       "      <td>2.662292e-01</td>\n",
       "    </tr>\n",
       "    <tr>\n",
       "      <th>3</th>\n",
       "      <td>/tf/All/Data/Documents/Github/rkaunismaa/NLP4H...</td>\n",
       "      <td>0</td>\n",
       "      <td>0</td>\n",
       "      <td>957</td>\n",
       "      <td>957</td>\n",
       "      <td>2.665041e-01</td>\n",
       "    </tr>\n",
       "    <tr>\n",
       "      <th>4</th>\n",
       "      <td>/tf/All/Data/Documents/Github/rkaunismaa/NLP4H...</td>\n",
       "      <td>0</td>\n",
       "      <td>0</td>\n",
       "      <td>957</td>\n",
       "      <td>957</td>\n",
       "      <td>2.742389e-01</td>\n",
       "    </tr>\n",
       "  </tbody>\n",
       "</table>\n",
       "</div>"
      ],
      "text/plain": [
       "                                            identity  source_x  source_y  \\\n",
       "0  /tf/All/Data/Documents/Github/rkaunismaa/NLP4H...         0         0   \n",
       "1  /tf/All/Data/Documents/Github/rkaunismaa/NLP4H...         0         0   \n",
       "2  /tf/All/Data/Documents/Github/rkaunismaa/NLP4H...         0         0   \n",
       "3  /tf/All/Data/Documents/Github/rkaunismaa/NLP4H...         0         0   \n",
       "4  /tf/All/Data/Documents/Github/rkaunismaa/NLP4H...         0         0   \n",
       "\n",
       "   source_w  source_h  VGG-Face_cosine  \n",
       "0       957       957     2.220446e-16  \n",
       "1       957       957     2.658416e-01  \n",
       "2       957       957     2.662292e-01  \n",
       "3       957       957     2.665041e-01  \n",
       "4       957       957     2.742389e-01  "
      ]
     },
     "execution_count": 17,
     "metadata": {},
     "output_type": "execute_result"
    }
   ],
   "source": [
    "dfs[0].head()"
   ]
  },
  {
   "cell_type": "code",
   "execution_count": 19,
   "metadata": {},
   "outputs": [],
   "source": [
    "pdDataFrame = dfs[0]"
   ]
  },
  {
   "cell_type": "code",
   "execution_count": 25,
   "metadata": {},
   "outputs": [
    {
     "data": {
      "text/plain": [
       "'/tf/All/Data/Documents/Github/rkaunismaa/NLP4HTML/express/express-match/public/images/Le4UrKUTBq6tXVJLXaRdkg2/baea9425-5f46-ee11-9103-f40343f42de8.jpeg'"
      ]
     },
     "execution_count": 25,
     "metadata": {},
     "output_type": "execute_result"
    }
   ],
   "source": [
    "pdDataFrame.iloc[2\n",
    "                 ]['identity']"
   ]
  },
  {
   "cell_type": "code",
   "execution_count": null,
   "metadata": {},
   "outputs": [],
   "source": []
  }
 ],
 "metadata": {
  "kernelspec": {
   "display_name": "Python 3",
   "language": "python",
   "name": "python3"
  },
  "language_info": {
   "codemirror_mode": {
    "name": "ipython",
    "version": 3
   },
   "file_extension": ".py",
   "mimetype": "text/x-python",
   "name": "python",
   "nbconvert_exporter": "python",
   "pygments_lexer": "ipython3",
   "version": "3.8.10"
  }
 },
 "nbformat": 4,
 "nbformat_minor": 2
}
