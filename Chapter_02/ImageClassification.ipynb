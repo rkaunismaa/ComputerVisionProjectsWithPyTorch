{
 "cells": [
  {
   "cell_type": "markdown",
   "metadata": {},
   "source": [
    "#### Start with the imports"
   ]
  },
  {
   "cell_type": "code",
   "execution_count": 1,
   "metadata": {},
   "outputs": [],
   "source": [
    "import os\n",
    "\n",
    "import numpy as np\n",
    "import cv2\n",
    "\n",
    "import matplotlib.pyplot as plt\n",
    "import matplotlib.image as mpimg\n",
    "\n",
    "from PIL import Image\n",
    "from IPython.display import display\n",
    "\n",
    "import torch\n",
    "import torch.nn as nn\n",
    "\n",
    "from torch.utils.data import DataLoader\n",
    "import torch.nn.functional as F\n",
    "from torchvision import datasets, transforms, models\n",
    "from torch.optim.lr_scheduler import StepLR\n",
    "# from torchsummary import summary\n",
    "from tqdm import tqdm"
   ]
  },
  {
   "cell_type": "code",
   "execution_count": 2,
   "metadata": {},
   "outputs": [
    {
     "name": "stdout",
     "output_type": "stream",
     "text": [
      "test  train\n"
     ]
    }
   ],
   "source": [
    "!ls /tf/All/Data/Kaggle/Chest_X-ray_Images"
   ]
  },
  {
   "cell_type": "code",
   "execution_count": 3,
   "metadata": {},
   "outputs": [],
   "source": [
    "# root folder of the data directory\n",
    "dataDir = '/tf/All/Data/Kaggle/Chest_X-ray_Images'"
   ]
  },
  {
   "cell_type": "markdown",
   "metadata": {},
   "source": [
    "#### Explore the data"
   ]
  },
  {
   "cell_type": "code",
   "execution_count": 4,
   "metadata": {},
   "outputs": [],
   "source": [
    "# 2 types of x-rays ...\n",
    "class_name = ['NORMAL','PNEUMONIA']"
   ]
  },
  {
   "cell_type": "code",
   "execution_count": 5,
   "metadata": {},
   "outputs": [],
   "source": [
    "def get_list_files(dirName):\n",
    "    files_list = os.listdir(dirName)\n",
    "    return files_list"
   ]
  },
  {
   "cell_type": "code",
   "execution_count": 6,
   "metadata": {},
   "outputs": [
    {
     "name": "stdout",
     "output_type": "stream",
     "text": [
      "/tf/All/Data/Kaggle/Chest_X-ray_Images/train/\n",
      "/tf/All/Data/Kaggle/Chest_X-ray_Images/test/\n"
     ]
    }
   ],
   "source": [
    "trainDir = dataDir + '/train/'\n",
    "testDir = dataDir + '/test/'\n",
    "print(trainDir)\n",
    "print(testDir)"
   ]
  },
  {
   "cell_type": "code",
   "execution_count": 7,
   "metadata": {},
   "outputs": [],
   "source": [
    "files_list_normal_train = get_list_files(trainDir + class_name[0])\n",
    "files_list_pneu_train = get_list_files(trainDir + class_name[1])"
   ]
  },
  {
   "cell_type": "code",
   "execution_count": 8,
   "metadata": {},
   "outputs": [],
   "source": [
    "files_list_normal_test = get_list_files(testDir + class_name[0])\n",
    "files_list_pneu_test = get_list_files(testDir + class_name[1])"
   ]
  },
  {
   "cell_type": "code",
   "execution_count": 9,
   "metadata": {},
   "outputs": [
    {
     "name": "stdout",
     "output_type": "stream",
     "text": [
      "Number of train samples in Normal category 1349\n",
      "Number of train samples in Pneumonia category 3883\n"
     ]
    }
   ],
   "source": [
    "print(\"Number of train samples in Normal category {}\".format(len(files_list_normal_train)))\n",
    "print(\"Number of train samples in Pneumonia category {}\".format(len(files_list_pneu_train)))"
   ]
  },
  {
   "cell_type": "code",
   "execution_count": 10,
   "metadata": {},
   "outputs": [
    {
     "name": "stdout",
     "output_type": "stream",
     "text": [
      "Number of test samples in Normal category 234\n",
      "Number of test samples in Pneumonia category 390\n"
     ]
    }
   ],
   "source": [
    "print(\"Number of test samples in Normal category {}\".format(len(files_list_normal_test)))\n",
    "print(\"Number of test samples in Pneumonia category {}\".format(len(files_list_pneu_test)))"
   ]
  }
 ],
 "metadata": {
  "kernelspec": {
   "display_name": "Python 3",
   "language": "python",
   "name": "python3"
  },
  "language_info": {
   "codemirror_mode": {
    "name": "ipython",
    "version": 3
   },
   "file_extension": ".py",
   "mimetype": "text/x-python",
   "name": "python",
   "nbconvert_exporter": "python",
   "pygments_lexer": "ipython3",
   "version": "3.8.10"
  },
  "orig_nbformat": 4
 },
 "nbformat": 4,
 "nbformat_minor": 2
}
